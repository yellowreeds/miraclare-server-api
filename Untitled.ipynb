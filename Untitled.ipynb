{
 "cells": [
  {
   "cell_type": "code",
   "execution_count": 36,
   "id": "3f61e6e3",
   "metadata": {},
   "outputs": [],
   "source": [
    "import numpy as np\n",
    "def load_bin(file_path:str, dtype=np.uint8):\n",
    "    try:\n",
    "        with open(file_path, 'rb') as file:\n",
    "            data = np.fromfile(file, dtype=dtype)\n",
    "        return data\n",
    "    except IOError as e:\n",
    "        print(f\"File can't be opened: {e}\")\n",
    "        return None\n",
    "    \n",
    "def compress_file(arr:np.ndarray):\n",
    "    arr_ = arr.reshape(-1, 18)\n",
    "    comp_arr = np.zeros((len(arr_),8), dtype=np.uint8)\n",
    "    for i in range(len(arr_)):\n",
    "        comp_arr[i][0] = arr_[i][2]                  # Counter\n",
    "        comp_arr[i][1] = arr_[i][3] | (arr_[i][5]<<4) # MSB 10\n",
    "        comp_arr[i][2] = arr_[i][4]                  # LSB 0\n",
    "        comp_arr[i][3] = arr_[i][6]                  # LSB 1\n",
    "        comp_arr[i][4] = arr_[i][7] | (arr_[i][9]<<4) # MSB 32\n",
    "        comp_arr[i][5] = arr_[i][8]                  # LSB 2\n",
    "        comp_arr[i][6] = arr_[i][10]                 # LSB3\n",
    "        comp_arr[i][7] = arr_[i][15]                 # Vib, WS, Lead Off, Bruxism\n",
    "    return comp_arr.flatten()\n",
    "def get_sig(arr:np.ndarray):\n",
    "    arr_ = arr.reshape(-1,18)\n",
    "    sig = np.zeros((len(arr_),4), dtype=np.uint16)\n",
    "    for i in range(len(arr_)):\n",
    "        sig[i][0] = (arr_[i][3].astype('uint16') << 8) | arr_[i][4].astype('uint16')\n",
    "        sig[i][1] = (arr_[i][5].astype('uint16') << 8) | arr_[i][6].astype('uint16')\n",
    "        sig[i][2] = (arr_[i][7].astype('uint16') << 8) | arr_[i][8].astype('uint16')\n",
    "        sig[i][3] = (arr_[i][9].astype('uint16') << 8) | arr_[i][10].astype('uint16')\n",
    "    return sig.flatten()\n",
    "def vib_intensity(arr:np.ndarray):\n",
    "    arr_ = arr.reshape(-1,18)\n",
    "    vib = arr_[:,15]\n",
    "    for i in range(len(vib)):\n",
    "        vib[i] = vib[i]>>4\n",
    "    vib[vib == 0] = 255\n",
    "    return vib.min()\n",
    "\n",
    "def count_episode(arr:np.ndarray):\n",
    "    arr_ = arr.reshape(-1,18)\n",
    "    vib = vib_intensity(arr_)\n",
    "    counter = 0\n",
    "    flag = False\n",
    "    \n",
    "    sig = get_sig(arr)\n",
    "    for i in range(len(sig)-1):\n",
    "        if flag:\n",
    "            if (sig[i] == vib) and (sig[i+1] == 0):\n",
    "                flag = False\n",
    "        else:\n",
    "            if (sig[i] == 0) and (sig[i+1] == vib):\n",
    "                flag = True\n",
    "                counter += 1\n",
    "    return counter\n",
    "\n",
    "def statistics(arr:np.ndarray):\n",
    "    arr_ = get_sig(arr)\n",
    "    return {'max':arr_.max(), 'min':arr_.min(), 'mean':int(arr_.mean())}\n",
    "def summary(file_path:str):\n",
    "    arr = load_bin(file_path)\n",
    "    ws = (arr[-3] >> 2) & 0b11\n",
    "    episod = count_episode(arr)\n",
    "    st = statistics(arr)\n",
    "    return {'VTH':arr[-4],'Number of BR episode': episod, 'SB EMG Maximum':st['max'], 'SB EMG Minimum':st['min'], 'SB EMG Mean':st['mean'], 'Window Size':ws,\n",
    "            'Vib. Intesity':vib_intensity(arr)}"
   ]
  },
  {
   "cell_type": "code",
   "execution_count": 61,
   "id": "8a9ff36b",
   "metadata": {},
   "outputs": [
    {
     "data": {
      "text/plain": [
       "{'VTH': 24,\n",
       " 'Number of BR episode': 0,\n",
       " 'SB EMG Maximum': 2305,\n",
       " 'SB EMG Minimum': 1794,\n",
       " 'SB EMG Mean': 2035,\n",
       " 'Window Size': 1,\n",
       " 'Vib. Intesity': 15}"
      ]
     },
     "execution_count": 61,
     "metadata": {},
     "output_type": "execute_result"
    }
   ],
   "source": [
    "summary('bin/C000020/20231221_102012.bin')"
   ]
  }
 ],
 "metadata": {
  "kernelspec": {
   "display_name": "Python 3 (ipykernel)",
   "language": "python",
   "name": "python3"
  },
  "language_info": {
   "codemirror_mode": {
    "name": "ipython",
    "version": 3
   },
   "file_extension": ".py",
   "mimetype": "text/x-python",
   "name": "python",
   "nbconvert_exporter": "python",
   "pygments_lexer": "ipython3",
   "version": "3.11.5"
  }
 },
 "nbformat": 4,
 "nbformat_minor": 5
}
